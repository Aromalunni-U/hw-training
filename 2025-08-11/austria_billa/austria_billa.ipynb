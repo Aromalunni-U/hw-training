{
 "cells": [
  {
   "cell_type": "code",
   "execution_count": 41,
   "id": "bd6735f9",
   "metadata": {},
   "outputs": [],
   "source": [
    "import pandas as pd\n",
    "import csv\n",
    "\n",
    "path = \"/home/user/Downloads/DataHut_AT_Billa_PriceExtractions_20250806.csv\"\n",
    "df = pd.read_csv(path)"
   ]
  },
  {
   "cell_type": "code",
   "execution_count": 42,
   "id": "def62860",
   "metadata": {},
   "outputs": [
    {
     "data": {
      "text/plain": [
       "Index(['unique_id', 'competitor_name', 'extraction_date', 'product_name',\n",
       "       'grammage_quantity', 'grammage_unit', 'regular_price', 'selling_price',\n",
       "       'price_valid_from', 'price_per_unit', 'percentage_discount',\n",
       "       'promotion_price', 'promotion_valid_from', 'promotion_valid_upto',\n",
       "       'promotion_description', 'currency', 'breadcrumb', 'pdp_url', 'region',\n",
       "       'pack_size', 'site_shown_uom'],\n",
       "      dtype='object')"
      ]
     },
     "execution_count": 42,
     "metadata": {},
     "output_type": "execute_result"
    }
   ],
   "source": [
    "df.columns"
   ]
  },
  {
   "cell_type": "code",
   "execution_count": 43,
   "id": "eac1c452",
   "metadata": {},
   "outputs": [],
   "source": [
    "df[\"price_per_unit\"] = df[\"price_per_unit\"].fillna('').astype(str).apply(lambda x:x.replace(\",\",\".\"))"
   ]
  },
  {
   "cell_type": "code",
   "execution_count": 44,
   "id": "af5b3cc2",
   "metadata": {},
   "outputs": [],
   "source": [
    "df['regular_price'] = df['regular_price'].fillna(df['selling_price']).round(2).astype(float)\n",
    "df['selling_price'] = df['selling_price'].round(2).astype(float)"
   ]
  },
  {
   "cell_type": "code",
   "execution_count": 45,
   "id": "141dcc9e",
   "metadata": {},
   "outputs": [],
   "source": [
    "df.loc[\n",
    "    df['site_shown_uom'].str.contains(\"Portion Packung|ANW\", case=False, na=False),\n",
    "    \"grammage_unit\"\n",
    "] = \"stuck\"\n",
    "\n",
    "df.loc[\n",
    "    df['site_shown_uom'].str.contains(\n",
    "        \"Teebeutel Packung|Teebeutel Karton|Teebeutel Paket|Packung Beutel|Teebeutel|Beutel|Btl\",\n",
    "        case=False, na=False\n",
    "    ),\n",
    "    \"grammage_unit\"\n",
    "] = \"btl\"\n",
    "\n",
    "df[\"competitor_name\"] = \"billa\""
   ]
  },
  {
   "cell_type": "code",
   "execution_count": 46,
   "id": "238b880b",
   "metadata": {},
   "outputs": [],
   "source": [
    "df.to_csv(\n",
    "    'DataHut_AT_Billa_PriceExtractions_20250811.CSV',\n",
    "    sep='|',\n",
    "    index=False, \n",
    "    float_format=\"%.2f\"\n",
    ")"
   ]
  }
 ],
 "metadata": {
  "kernelspec": {
   "display_name": ".venv",
   "language": "python",
   "name": "python3"
  },
  "language_info": {
   "codemirror_mode": {
    "name": "ipython",
    "version": 3
   },
   "file_extension": ".py",
   "mimetype": "text/x-python",
   "name": "python",
   "nbconvert_exporter": "python",
   "pygments_lexer": "ipython3",
   "version": "3.12.3"
  }
 },
 "nbformat": 4,
 "nbformat_minor": 5
}
