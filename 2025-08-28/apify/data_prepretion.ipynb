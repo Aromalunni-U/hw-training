{
 "cells": [
  {
   "cell_type": "code",
   "execution_count": 102,
   "id": "d465dd03",
   "metadata": {},
   "outputs": [],
   "source": [
    "import pandas as pd"
   ]
  },
  {
   "cell_type": "code",
   "execution_count": 103,
   "id": "3e330a09",
   "metadata": {
    "notebookRunGroups": {
     "groupValue": "1"
    }
   },
   "outputs": [],
   "source": [
    "df_path = \"/home/user/Desktop/hw-training/2025-08-28/apify/dataset_instagram-scraper.json\"\n",
    "df = pd.read_json(df_path)\n",
    "\n",
    "\n",
    "tesco_df = df.iloc[0]\n",
    "sainsburys_df = df.iloc[1]\n",
    "morrisons_df = df.iloc[2]"
   ]
  },
  {
   "cell_type": "code",
   "execution_count": 104,
   "id": "6d03551d",
   "metadata": {},
   "outputs": [],
   "source": [
    "common_cols = [\n",
    "    \"url\",\n",
    "    \"timestamp\",\n",
    "    \"caption\",\n",
    "    \"hashtags\",\n",
    "    \"likesCount\",\n",
    "    \"commentsCount\",\n",
    "    \"videoViewCount\",\n",
    "    \"type\",\n",
    "    \"Image/Video URL\",   \n",
    "]\n",
    "\n",
    "new_field_names = {\n",
    "    \"url\" : \"Post ID/URL\",\n",
    "    \"timestamp\": \"Post Date/Time\",\n",
    "    \"caption\": \"Post Text/Caption\",\n",
    "    \"hashtags\" :\"Hashtags Used\",\n",
    "    \"likesCount\": \"Likes Engagement\",\n",
    "    \"commentsCount\": \"Comments Engagement\",\n",
    "    \"videoViewCount\": \"Views (Video)\",\n",
    "    \"type\": \"Media Type\",\n",
    "    \"Image/Video URL\": \"Image/Video URL\", \n",
    "}\n",
    "\n",
    "def convert_data(brand_data, brand):\n",
    "    posts = brand_data[\"latestPosts\"]  \n",
    "    df = pd.json_normalize(posts)\n",
    "\n",
    "    df[\"Image/Video URL\"] = df.apply(\n",
    "        lambda row: row.get(\"videoUrl\") if str(row.get(\"type\")).lower() == \"video\" else row.get(\"displayUrl\", \"\"),\n",
    "        axis=1\n",
    "    )\n",
    "\n",
    "    df = df[common_cols].rename(columns=new_field_names)\n",
    "\n",
    "    df.insert(0, \"Brand\", brand)\n",
    "    df.insert(1, \"brand_type\", \"\")\n",
    "    df.insert(2, \"Platform\", \"Instagram\")\n",
    "    df.insert(5, \"User Handle\", \"\")\n",
    "    df.insert(6, \"User Type\", \"\")\n",
    "    df.insert(8, \"Post Type\", \"\")\n",
    "    df.insert(5, \"Mentions Type\", \"\")\n",
    "    df.insert(14, \"Shares/Retweets\", \"\")\n",
    "    df.insert(16, \"Common Keywords\", \"\")\n",
    "    df.insert(17, \"Region\", \"\")\n",
    "    df.insert(18, \"Language\", \"\")  \n",
    "    df.insert(19, \"Top Theme Tags\", \"\")\n",
    "    df.insert(20, \"Campaign Tag\", \"\")\n",
    "\n",
    "    return df\n",
    "\n"
   ]
  },
  {
   "cell_type": "code",
   "execution_count": 105,
   "id": "efff62f7",
   "metadata": {},
   "outputs": [],
   "source": [
    "tesco_df = convert_data(tesco_df, \"tesco\")\n",
    "sainsburys_df = convert_data(sainsburys_df, \"sainsburys\")\n",
    "morrisons_df = convert_data(morrisons_df, \"morrisons\")"
   ]
  },
  {
   "cell_type": "code",
   "execution_count": 106,
   "id": "da0f6656",
   "metadata": {},
   "outputs": [],
   "source": [
    "final_df = pd.concat([tesco_df, sainsburys_df, morrisons_df], ignore_index=True)\n",
    "\n",
    "final_df[\"Hashtags Used\"] = final_df[\"Hashtags Used\"].astype(str).apply(\n",
    "    lambda x: x if x.strip() != \"[]\" else  \"\"\n",
    ")\n",
    "\n",
    "final_df[\"Post Date/Time\"] = pd.to_datetime(final_df[\"Post Date/Time\"])\n",
    "final_df[\"Views (Video)\"] = pd.to_numeric(final_df[\"Views (Video)\"], errors=\"coerce\").astype(\"Int64\")\n",
    "\n",
    "\n",
    "\n",
    "final_df.to_csv(\"instagram_data.csv\", index=False, encoding=\"utf-8\")\n"
   ]
  }
 ],
 "metadata": {
  "kernelspec": {
   "display_name": ".venv",
   "language": "python",
   "name": "python3"
  },
  "language_info": {
   "codemirror_mode": {
    "name": "ipython",
    "version": 3
   },
   "file_extension": ".py",
   "mimetype": "text/x-python",
   "name": "python",
   "nbconvert_exporter": "python",
   "pygments_lexer": "ipython3",
   "version": "3.12.3"
  }
 },
 "nbformat": 4,
 "nbformat_minor": 5
}
