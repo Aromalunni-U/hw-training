{
 "cells": [
  {
   "cell_type": "code",
   "execution_count": 44,
   "id": "eaa2637f",
   "metadata": {},
   "outputs": [],
   "source": [
    "import pandas as pd\n",
    "import json"
   ]
  },
  {
   "cell_type": "code",
   "execution_count": null,
   "id": "527638dd",
   "metadata": {},
   "outputs": [],
   "source": [
    "path = \"/home/user/Desktop/hw-training/2025-08-29/apify_twitter/\"\n",
    "\n",
    "tesco_path = f\"{path}apify_tesco.json\"\n",
    "morrisons_path = f\"{path}apify_morrisons.json\"\n",
    "sainsburys_path = f\"{path}apify_sainsburys.json\""
   ]
  },
  {
   "cell_type": "code",
   "execution_count": 46,
   "id": "a4d28e77",
   "metadata": {},
   "outputs": [],
   "source": [
    "\n",
    "def convert_data(file_path, brand):\n",
    "    \n",
    "    with open(file_path, \"r\") as file:\n",
    "        data = json.load(file)\n",
    "\n",
    "    df = pd.DataFrame([\n",
    "        {\n",
    "            \"Brand\": brand,\n",
    "            \"brand_type\": \"\",\n",
    "            \"Platform\": \"Twitter\",\n",
    "            \"Post ID/URL\": post.get(\"url\", \"\"),\n",
    "            \"Post Date/Time\": post.get(\"date_posted\", \"\"),\n",
    "            \"User Handle\": post.get(\"user_posted\", \"\"),\n",
    "            \"User Type\": \"\",\n",
    "            \"Post Text/Caption\": post.get(\"description\", \"\"),\n",
    "            \"Post Type\": \"\",\n",
    "            \"Media Type\": \"Video\" if post.get(\"videos\") else \"Text\",\n",
    "            \"Mentions Type\": \"\",\n",
    "            \"Hashtags Used\": post.get(\"hashtags\", \"\") if post.get(\"hashtags\") else \"\",\n",
    "            \"Engagement - Likes\": post.get(\"likes\", \"\"),\n",
    "            \"Engagement - Comments\": post.get(\"replies\", \"\"),\n",
    "            \"Engagement - Shares/Retweets\": post.get(\"reposts\", \"\"),\n",
    "            \"Views (Video)\": post.get(\"views\", \"\") if post.get(\"videos\") else \"\",\n",
    "            \"Common Keywords\": \"\",\n",
    "            \"Region\": \"\",\n",
    "            \"Language\": \"\",\n",
    "            \"Top Theme Tags\": \"\",\n",
    "            \"Campaign Tag\": \"\",\n",
    "            \"Image/Video URL\": (\n",
    "                (post.get(\"videos\", [{}])[0].get(\"video_url\") or \"\").split(\"?\")[0] if post.get(\"videos\") else \"\"\n",
    "                )\n",
    "        }\n",
    "        for post in data\n",
    "    ])\n",
    "\n",
    "    return df\n"
   ]
  },
  {
   "cell_type": "code",
   "execution_count": 47,
   "id": "a9d498a7",
   "metadata": {},
   "outputs": [],
   "source": [
    "tesco_df = convert_data(tesco_path, \"tesco\")\n",
    "sainsburys_df = convert_data(sainsburys_path, \"sainsburys\")\n",
    "morrisons_df = convert_data(morrisons_path, \"morrisons\")"
   ]
  },
  {
   "cell_type": "code",
   "execution_count": 48,
   "id": "dd2b72da",
   "metadata": {},
   "outputs": [],
   "source": [
    "final_df = pd.concat([tesco_df, sainsburys_df, morrisons_df], ignore_index=True)\n",
    "final_df.to_csv(\"twitter_data.csv\", index=False, encoding=\"utf-8\")"
   ]
  }
 ],
 "metadata": {
  "kernelspec": {
   "display_name": ".venv",
   "language": "python",
   "name": "python3"
  },
  "language_info": {
   "codemirror_mode": {
    "name": "ipython",
    "version": 3
   },
   "file_extension": ".py",
   "mimetype": "text/x-python",
   "name": "python",
   "nbconvert_exporter": "python",
   "pygments_lexer": "ipython3",
   "version": "3.12.3"
  }
 },
 "nbformat": 4,
 "nbformat_minor": 5
}
