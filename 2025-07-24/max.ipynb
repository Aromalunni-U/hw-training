{
 "cells": [
  {
   "cell_type": "code",
   "execution_count": 130,
   "id": "ede85567",
   "metadata": {},
   "outputs": [],
   "source": [
    "import pandas as pd\n",
    "from parsel import Selector"
   ]
  },
  {
   "cell_type": "code",
   "execution_count": 131,
   "id": "3f15aa6e",
   "metadata": {},
   "outputs": [],
   "source": [
    "file_name = \"/home/user/Desktop/hw-training/2025-07-24/MaxKidsToys.csv\"\n",
    "\n",
    "df = pd.read_csv(file_name)"
   ]
  },
  {
   "cell_type": "code",
   "execution_count": 132,
   "id": "2717a8c7",
   "metadata": {},
   "outputs": [
    {
     "data": {
      "text/plain": [
       "Index(['web-scraper-order', 'web-scraper-start-url', 'product_name', 'image',\n",
       "       'selling_price', 'regular_price', 'breadcrumb', 'promotion_description',\n",
       "       'product_description'],\n",
       "      dtype='object')"
      ]
     },
     "execution_count": 132,
     "metadata": {},
     "output_type": "execute_result"
    }
   ],
   "source": [
    "df.columns"
   ]
  },
  {
   "cell_type": "code",
   "execution_count": 133,
   "id": "77675387",
   "metadata": {},
   "outputs": [],
   "source": [
    "df.drop(\"web-scraper-order\",inplace=True, axis=1)"
   ]
  },
  {
   "cell_type": "code",
   "execution_count": 134,
   "id": "d6a00345",
   "metadata": {},
   "outputs": [],
   "source": [
    "df.rename(columns={'web-scraper-start-url':\"pdp_url\"},inplace=True)"
   ]
  },
  {
   "cell_type": "code",
   "execution_count": 135,
   "id": "bf6ebd35",
   "metadata": {},
   "outputs": [],
   "source": [
    "def clean_image(data):\n",
    "    sel = Selector(data)\n",
    "    img = sel.xpath(\"//img/@src\").get()\n",
    "    return img\n",
    "\n",
    "def clean_selling_price(data):\n",
    "    sel = Selector(data)\n",
    "    price = sel.xpath(\n",
    "        '//div[contains(text(), \"AED\")]/following-sibling::div[1]/text()').get()\n",
    "    return price\n",
    "\n",
    "def clean_breadcrumb(data):\n",
    "    sel = Selector(data)\n",
    "    breadcrumb = sel.xpath('//a/text()').getall()\n",
    "    return \" > \".join(breadcrumb)"
   ]
  },
  {
   "cell_type": "code",
   "execution_count": 136,
   "id": "5e13ef6e",
   "metadata": {},
   "outputs": [],
   "source": [
    "df[\"image\"] = df[\"image\"].apply(clean_image)\n",
    "df[\"selling_price\"] = df[\"selling_price\"].apply(clean_selling_price)\n",
    "df[\"breadcrumb\"] = df[\"breadcrumb\"].apply(clean_breadcrumb)\n",
    "\n",
    "df[\"regular_price\"] = df[\"regular_price\"].apply(\n",
    "    lambda x: str(x).replace(\"AED\", \"\").strip() if pd.notnull(x) else \"\"\n",
    ")\n",
    "\n",
    "df[\"product_description\"] = df[\"product_description\"].apply(\n",
    "    lambda x : x.replace(\"Overview\", \"\").replace(\"Read Less\",\"\")\n",
    ")"
   ]
  },
  {
   "cell_type": "code",
   "execution_count": 137,
   "id": "e7a6ed2a",
   "metadata": {},
   "outputs": [],
   "source": [
    "df.to_csv('cleaned_MaxKidsToy.csv', index=False)"
   ]
  },
  {
   "cell_type": "code",
   "execution_count": null,
   "id": "18cd6752",
   "metadata": {},
   "outputs": [],
   "source": []
  }
 ],
 "metadata": {
  "kernelspec": {
   "display_name": ".venv",
   "language": "python",
   "name": "python3"
  },
  "language_info": {
   "codemirror_mode": {
    "name": "ipython",
    "version": 3
   },
   "file_extension": ".py",
   "mimetype": "text/x-python",
   "name": "python",
   "nbconvert_exporter": "python",
   "pygments_lexer": "ipython3",
   "version": "3.12.3"
  }
 },
 "nbformat": 4,
 "nbformat_minor": 5
}
