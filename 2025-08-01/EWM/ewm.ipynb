{
 "cells": [
  {
   "cell_type": "code",
   "execution_count": 313,
   "id": "bb826541",
   "metadata": {},
   "outputs": [],
   "source": [
    "import pandas as pd\n",
    "import re"
   ]
  },
  {
   "cell_type": "code",
   "execution_count": 314,
   "id": "5df654d3",
   "metadata": {},
   "outputs": [],
   "source": [
    "df = pd.read_csv(\"EWM.csv\")"
   ]
  },
  {
   "cell_type": "code",
   "execution_count": 315,
   "id": "ff8f2d76",
   "metadata": {},
   "outputs": [
    {
     "data": {
      "text/plain": [
       "Index(['web-scraper-order', 'web-scraper-start-url', 'pdp_url', 'pdp_url-href',\n",
       "       'name', 'office_phone_numbers  ', 'agent_phone_numbers', 'website',\n",
       "       'website-href', 'address', 'title', 'description'],\n",
       "      dtype='object')"
      ]
     },
     "execution_count": 315,
     "metadata": {},
     "output_type": "execute_result"
    }
   ],
   "source": [
    "df.columns"
   ]
  },
  {
   "cell_type": "code",
   "execution_count": 316,
   "id": "47c63063",
   "metadata": {},
   "outputs": [],
   "source": [
    "df.drop([\"web-scraper-order\",\"web-scraper-start-url\",\"pdp_url\",\"website\"],inplace=True, axis=1)"
   ]
  },
  {
   "cell_type": "code",
   "execution_count": 317,
   "id": "a201d2d4",
   "metadata": {},
   "outputs": [],
   "source": [
    "df.rename(\n",
    "    columns={\n",
    "        'pdp_url-href':\"profile_url \",\n",
    "        'website-href': 'website',\n",
    "        'office_phone_numbers  ':'office_phone_numbers'  \n",
    "    },inplace=True\n",
    "\n",
    ")"
   ]
  },
  {
   "cell_type": "code",
   "execution_count": 318,
   "id": "ee237f19",
   "metadata": {},
   "outputs": [],
   "source": [
    "def clean_description(data):\n",
    "    length = len(data.split())\n",
    "    if length == 2 or length == 3:\n",
    "        return \"\" \n",
    "    data = data.encode('utf-8').decode('unicode_escape')\n",
    "    data = re.sub(r\"\\s+\", \" \", data)\n",
    "    unwanted = [\"\\u00e2\",\"\\u0080\",\"\\u0099\",\"\\u00ae\",\"\\u00c2\",\"\\u0094\", \"\\u0093\"]\n",
    "    for item in unwanted:\n",
    "        data = data.replace(item, \"\")\n",
    "\n",
    "    return data.strip()\n",
    "\n",
    "\n",
    "df[\"title\"] = df[\"title\"].apply(lambda x: x.split(\"-\")[-1].strip())\n",
    "df[\"address\"] = df[\"address\"].apply(lambda x: x.replace(\"\\n\", \"\").replace(\"\\r\", \"\"))\n",
    "df[\"description\"] = df[\"description\"].apply(clean_description)\n",
    "df[\"office_phone_numbers\"] = df[\"office_phone_numbers\"].fillna(\"\")\n"
   ]
  },
  {
   "cell_type": "code",
   "execution_count": 319,
   "id": "057972d4",
   "metadata": {},
   "outputs": [],
   "source": [
    "df[\"country\"] = \"US\"\n",
    "df[\"office_name\"] = \"\"\n",
    "df[\"email\"] = \"\""
   ]
  },
  {
   "cell_type": "code",
   "execution_count": 320,
   "id": "731a4771",
   "metadata": {},
   "outputs": [
    {
     "data": {
      "text/plain": [
       "50"
      ]
     },
     "execution_count": 320,
     "metadata": {},
     "output_type": "execute_result"
    }
   ],
   "source": [
    "df = df.head(50)\n",
    "len(df)"
   ]
  },
  {
   "cell_type": "code",
   "execution_count": 321,
   "id": "e5739c96",
   "metadata": {},
   "outputs": [],
   "source": [
    "df.to_json(\"ewm.json\", orient=\"records\", lines=True, force_ascii=False)"
   ]
  },
  {
   "cell_type": "code",
   "execution_count": 322,
   "id": "2a62c190",
   "metadata": {},
   "outputs": [],
   "source": [
    "with open(\"ewm.json\", \"r\", encoding=\"utf-8\") as file:\n",
    "    content = file.read().replace(\"\\\\/\", \"/\")\n",
    "\n",
    "with open(\"ewm.json\", \"w\", encoding=\"utf-8\") as file:\n",
    "    file.write(content)\n"
   ]
  }
 ],
 "metadata": {
  "kernelspec": {
   "display_name": ".venv",
   "language": "python",
   "name": "python3"
  },
  "language_info": {
   "codemirror_mode": {
    "name": "ipython",
    "version": 3
   },
   "file_extension": ".py",
   "mimetype": "text/x-python",
   "name": "python",
   "nbconvert_exporter": "python",
   "pygments_lexer": "ipython3",
   "version": "3.12.3"
  }
 },
 "nbformat": 4,
 "nbformat_minor": 5
}
